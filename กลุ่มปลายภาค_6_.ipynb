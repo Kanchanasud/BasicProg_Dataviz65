{
  "nbformat": 4,
  "nbformat_minor": 0,
  "metadata": {
    "colab": {
      "provenance": [],
      "authorship_tag": "ABX9TyMmErSuoZWIrlbXY2uAENSI",
      "include_colab_link": true
    },
    "kernelspec": {
      "name": "python3",
      "display_name": "Python 3"
    },
    "language_info": {
      "name": "python"
    }
  },
  "cells": [
    {
      "cell_type": "markdown",
      "metadata": {
        "id": "view-in-github",
        "colab_type": "text"
      },
      "source": [
        "<a href=\"https://colab.research.google.com/github/Kanchanasud/BasicProg_Dataviz65/blob/main/%E0%B8%81%E0%B8%A5%E0%B8%B8%E0%B9%88%E0%B8%A1%E0%B8%9B%E0%B8%A5%E0%B8%B2%E0%B8%A2%E0%B8%A0%E0%B8%B2%E0%B8%84_6_.ipynb\" target=\"_parent\"><img src=\"https://colab.research.google.com/assets/colab-badge.svg\" alt=\"Open In Colab\"/></a>"
      ]
    },
    {
      "cell_type": "markdown",
      "source": [
        "#กลุ่ม 6 ปลายภาค\n",
        "* 633020438-6\tนางสาวกาญจนสุดา ผุยมูลตรี\tเลขที่ 2 \n",
        "https://github.com/Kanchanasud/BasicProg_Dataviz65\t\n",
        "\n",
        "* 633020548-9\tนางสาวกัลยรัตน์ บุญกอง เลขที่ 16\n",
        "\thttps://github.com/kumoromilee/BasicProg_DataViz65\t\t\n",
        "\n",
        "* 633021020-6\tนายพิทวัส พิมพ์บุสิทธิ์ เลขที่ 29\n",
        "\thttps://github.com/Pittawas6330210206/BasicProg_Dataviz65\t\t\t\t\t\t\t\t\t\t\t\t\t\t\t\t\t\t\t\t\t\t"
      ],
      "metadata": {
        "id": "lKd4voxTW0r3"
      }
    }
  ]
}