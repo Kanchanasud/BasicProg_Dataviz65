{
  "nbformat": 4,
  "nbformat_minor": 0,
  "metadata": {
    "colab": {
      "name": "Recap 1-3 Quiz1.ipynb",
      "provenance": [],
      "include_colab_link": true
    },
    "kernelspec": {
      "name": "python3",
      "display_name": "Python 3"
    },
    "language_info": {
      "name": "python"
    }
  },
  "cells": [
    {
      "cell_type": "markdown",
      "metadata": {
        "id": "view-in-github",
        "colab_type": "text"
      },
      "source": [
        "<a href=\"https://colab.research.google.com/github/Kanchanasud/BasicProg_Dataviz65/blob/main/Recap_1_3_Quiz1.ipynb\" target=\"_parent\"><img src=\"https://colab.research.google.com/assets/colab-badge.svg\" alt=\"Open In Colab\"/></a>"
      ]
    },
    {
      "cell_type": "markdown",
      "source": [
        "Quiz 1 \n",
        "\n",
        "คำนวณเวลาเป็นความต่างของเวลาเป็นวินาทีของช่วงเวลาต่อไปนี้โดยใช้คำสั่ง split() ช่วย และ print ออกมาให้สวยงาม\n",
        "\n",
        "* 09:11:50 - 12:30:15\n",
        "* 13:41:07 - 20:00:18\n",
        "* 21:30:15 - 00:00:00\n",
        "* 00:00:00 - 23:59:59\n",
        "\n",
        "\n",
        "\n",
        "\n",
        "\n"
      ],
      "metadata": {
        "id": "FKKg2s03yfKC"
      }
    },
    {
      "cell_type": "code",
      "source": [
        "#ข้อ 1 09:11:50 - 12:30:15\n",
        "A ='09:11:50'\n",
        "A_sp = A.split(':')\n",
        "print(A_sp)\n",
        "AW1=int(A_sp[0])*60*60+int(A_sp[1])*60 + int(A_sp[2])\n",
        "\n",
        "a ='12:30:15'\n",
        "a_sp = al.split(':')\n",
        "print(a_sp)\n",
        "AW2=int(a_sp[0])*60*60+int(a_sp[1])*60 + int(a_sp[2])\n",
        "print(f'{A}-{a} ความต่างของเวลาเป็นวินาทีเท่ากับ {AW2-AW1} วินาที')\n",
        "\n",
        "\n"
      ],
      "metadata": {
        "id": "Bd1zlzi9MY1d",
        "outputId": "6976b4d0-1ce8-41bc-ea4c-3fba4f593107",
        "colab": {
          "base_uri": "https://localhost:8080/"
        }
      },
      "execution_count": 45,
      "outputs": [
        {
          "output_type": "stream",
          "name": "stdout",
          "text": [
            "['09', '11', '50']\n",
            "['12', '30', '15']\n",
            "09:11:50-12:30:15 ความต่างของเวลาเป็นวินาทีเท่ากับ 11905 วินาที\n"
          ]
        }
      ]
    },
    {
      "cell_type": "code",
      "source": [
        ""
      ],
      "metadata": {
        "id": "sQ-l7zPJOoCF"
      },
      "execution_count": null,
      "outputs": []
    },
    {
      "cell_type": "code",
      "source": [
        "#ข้อ 2 13:41:07 - 20:00:18\n",
        "B ='13:41:07'\n",
        "B_sp = B.split(':')\n",
        "print(B_sp)\n",
        "AW1=int(B_sp[0])*60*60+int(B_sp[1])*60 + int(B_sp[2])\n",
        "\n",
        "b ='20:00:18'\n",
        "b_sp = b.split(':')\n",
        "print(b_sp)\n",
        "AW2=int(b_sp[0])*60*60+int(b_sp[1])*60 + int(b_sp[2])\n",
        "print(f'{B}-{b} ความต่างของเวลาเป็นวินาทีเท่ากับ {AW-AW} วินาที')"
      ],
      "metadata": {
        "id": "xlMgM7a1UMbU",
        "outputId": "bbf7c50a-1d12-4acf-8639-4bb0155812bd",
        "colab": {
          "base_uri": "https://localhost:8080/"
        }
      },
      "execution_count": 40,
      "outputs": [
        {
          "output_type": "stream",
          "name": "stdout",
          "text": [
            "['13', '41', '07']\n",
            "['20', '00', '18']\n",
            "13:41:07-20:00:18 ความต่างของเวลาเป็นวินาทีเท่ากับ 22751 วินาที\n"
          ]
        }
      ]
    },
    {
      "cell_type": "code",
      "source": [
        ""
      ],
      "metadata": {
        "id": "zPuwAroFUs5h"
      },
      "execution_count": null,
      "outputs": []
    },
    {
      "cell_type": "code",
      "source": [
        "#ข้อ 3 21:30:15 - 00:00:00\n",
        "C ='21:30:15'\n",
        "C_sp = C.split(':')\n",
        "print(C_sp)\n",
        "AW1=int(C_sp[0])*60*60+int(C_sp[1])*60 + int(C_sp[2])\n",
        "\n",
        "c ='24:00:00'\n",
        "c_sp = c.split(':')\n",
        "print(c_sp)\n",
        "AW2=int(c_sp[0])*60*60+int(c_sp[1])*60 + int(c_sp[2])\n",
        "print(f'{C}-{c} ความต่างของเวลาเป็นวินาทีเท่ากับ {AW2-AW1} วินาที')"
      ],
      "metadata": {
        "id": "mCEOqd7yVnyJ",
        "outputId": "44ba7b94-e96b-49bb-8569-4584e0cc4fe5",
        "colab": {
          "base_uri": "https://localhost:8080/"
        }
      },
      "execution_count": 44,
      "outputs": [
        {
          "output_type": "stream",
          "name": "stdout",
          "text": [
            "['21', '30', '15']\n",
            "['24', '00', '00']\n",
            "21:30:15-24:00:00 ความต่างของเวลาเป็นวินาทีเท่ากับ 8985 วินาที\n"
          ]
        }
      ]
    },
    {
      "cell_type": "code",
      "source": [
        ""
      ],
      "metadata": {
        "id": "z9gNCAriWcuL"
      },
      "execution_count": null,
      "outputs": []
    },
    {
      "cell_type": "code",
      "source": [
        "#ข้อ 4 00:00:00 - 23:59:59\n",
        "D ='00:00:00'\n",
        "D_sp = D.split(':')\n",
        "print(D_sp)\n",
        "AW1=int(D_sp[0])*60*60+int(D_sp[1])*60 + int(D_sp[2])\n",
        "\n",
        "d ='23:59:59'\n",
        "d_sp = d.split(':')\n",
        "print(d_sp)\n",
        "AW2=int(d_sp[0])*60*60+int(d_sp[1])*60 + int(d_sp[2])\n",
        "print(f'{D}-{d} ความต่างของเวลาเป็นวินาทีเท่ากับ {AW2-AW1} วินาที')#ข้อ 1 09:11:50 - 12:30:15\n"
      ],
      "metadata": {
        "id": "rPc7Sbg4XFt7",
        "outputId": "84b355aa-e964-48f7-b5ca-c616ec2a2011",
        "colab": {
          "base_uri": "https://localhost:8080/"
        }
      },
      "execution_count": 47,
      "outputs": [
        {
          "output_type": "stream",
          "name": "stdout",
          "text": [
            "['00', '00', '00']\n",
            "['23', '59', '59']\n",
            "00:00:00-23:59:59 ความต่างของเวลาเป็นวินาทีเท่ากับ 86399 วินาที\n"
          ]
        }
      ]
    },
    {
      "cell_type": "code",
      "source": [
        ""
      ],
      "metadata": {
        "id": "RdtSd-YLXvBZ"
      },
      "execution_count": null,
      "outputs": []
    }
  ]
}