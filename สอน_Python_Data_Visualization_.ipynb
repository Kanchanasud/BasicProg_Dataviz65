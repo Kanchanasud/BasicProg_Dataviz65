{
  "nbformat": 4,
  "nbformat_minor": 0,
  "metadata": {
    "colab": {
      "provenance": [],
      "authorship_tag": "ABX9TyP5Vrjg0cv1Nlr1QlY4CKYG",
      "include_colab_link": true
    },
    "kernelspec": {
      "name": "python3",
      "display_name": "Python 3"
    },
    "language_info": {
      "name": "python"
    }
  },
  "cells": [
    {
      "cell_type": "markdown",
      "metadata": {
        "id": "view-in-github",
        "colab_type": "text"
      },
      "source": [
        "<a href=\"https://colab.research.google.com/github/Kanchanasud/BasicProg_Dataviz65/blob/main/%E0%B8%AA%E0%B8%AD%E0%B8%99_Python_Data_Visualization_.ipynb\" target=\"_parent\"><img src=\"https://colab.research.google.com/assets/colab-badge.svg\" alt=\"Open In Colab\"/></a>"
      ]
    },
    {
      "cell_type": "markdown",
      "source": [
        "#เว็บสอนโค้ด Python Data Visualization\n",
        "\n",
        "\n",
        "\n",
        "https://www.ultimatepython.co/post/graph-data-visualization-python-matplotlib-seaborn"
      ],
      "metadata": {
        "id": "7pavA2DqUY-3"
      }
    }
  ]
}